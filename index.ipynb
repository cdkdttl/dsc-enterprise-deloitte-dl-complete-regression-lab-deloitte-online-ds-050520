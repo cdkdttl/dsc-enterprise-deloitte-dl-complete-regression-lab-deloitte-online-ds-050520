{
 "cells": [
  {
   "cell_type": "markdown",
   "metadata": {},
   "source": [
    "# Complete Regression - Lab\n",
    "\n",
    "## Introduction\n",
    "By now, you have created all the necessary functions to calculate the slope, intercept, best-fit line, prediction and visualizations. In this lab you will put them all together to run a regression experiment and calculate the model loss. \n",
    "\n",
    "## Objectives\n",
    "\n",
    "You will be able to:\n",
    "\n",
    "* Run a complete regression analysis using python\n",
    "\n",
    "## The formulas\n",
    "\n",
    "**Slope**: \n",
    "$\\hat m = \\dfrac{\\overline{x}*\\overline{y}-\\overline{xy}}{(\\overline{x})^2-\\overline{x^2}}$\n",
    "\n",
    "\n",
    "**Intercept**: $ \\hat c = \\bar{y} - \\hat m\\bar{x}$\n",
    "\n",
    "**Prediction**: $\\hat{y} = \\hat mx + \\hat c$\n",
    "\n",
    "**R-Squared**: \n",
    "$ R^2 = 1- \\dfrac{SS_{RES}}{SS_{TOT}} = 1 - \\dfrac{\\sum_i(y_i - \\hat y_i)^2}{\\sum_i(y_i - \\overline y_i)^2} $\n",
    "\n",
    "\n",
    "Use the python functions created earlier to implement these formulas to run a regression analysis using x and y as input variables. "
   ]
  },
  {
   "cell_type": "code",
   "execution_count": 2,
   "metadata": {},
   "outputs": [],
   "source": [
    "# Combine all the functions created so far to run a complete regression experiment. \n",
    "# Produce an output similar to the one shown below. \n",
    "\n",
    "X = np.array([1,2,3,4,5,6,7,8,9,10], dtype=np.float64)\n",
    "Y = np.array([7,7,8,9,9,10,10,11,11,12], dtype=np.float64)\n"
   ]
  },
  {
   "cell_type": "code",
   "execution_count": 9,
   "metadata": {
    "scrolled": true
   },
   "outputs": [
    {
     "name": "stdout",
     "output_type": "stream",
     "text": [
      "Output\n",
      "----------------------------\n",
      "Slope: 0.56\n",
      "Y-Intercept: 6.33\n",
      "R Squared: 0.97\n",
      "----------------------------\n"
     ]
    }
   ],
   "source": [
    "import numpy as np\n",
    "\n",
    "def calc_slope(xs,ys):\n",
    "    \"\"\"\n",
    "    input\n",
    "    xs [numpy array] : true x values\n",
    "    ys [numpy array] : true y values\n",
    "    \n",
    "    output\n",
    "    slope of regression line using least squares fit\n",
    "    \"\"\"\n",
    "    return (np.average(xs) * np.average(ys) - np.average(xs*ys)) / (np.average(xs)**2 - np.average(xs**2))\n",
    "\n",
    "def best_fit(xs,ys):\n",
    "    \"\"\"\n",
    "    input\n",
    "    xs [numpy array] : true x values\n",
    "    ys [numpy array] : true y values\n",
    "    \n",
    "    output\n",
    "    slope [float] : slope of line of least squares fit\n",
    "    intercept [float] : intercept of line of least squares fit\n",
    "    \"\"\"\n",
    "    slope = calc_slope(xs,ys)\n",
    "    intercept = np.average(ys) - slope*np.average(xs)\n",
    "    return slope, intercept\n",
    "\n",
    "\n",
    "def reg_line (m, c, xs):\n",
    "    \"\"\"\n",
    "    input\n",
    "    m [float] : slope of line of best fit\n",
    "    c [float] : intercept of line of best fit\n",
    "    xs [numpy array]: original x values\n",
    "    \n",
    "    output\n",
    "    regression line [numpy array] : y-values of regression line for corresponding input xs values\n",
    "    \"\"\"\n",
    "    y_points = []\n",
    "    for item in np.nditer(xs):\n",
    "        point = m*item + c       \n",
    "        y_points.append(point)    \n",
    "    return np.array(y_points) #my abuse of lists in this function is hot garbage\n",
    "\n",
    "\n",
    "def sq_err(Y, Y_pred):\n",
    "    \"\"\"\n",
    "    input\n",
    "    Y [numpy array] : observed y values\n",
    "    Y_pred [numpy array] : regression line\n",
    "\n",
    "    output\n",
    "    SSE [float] : squared error between regression and true line\n",
    "    \n",
    "    \"\"\"\n",
    "\n",
    "    i = 0 \n",
    "    SS_Res=0\n",
    "    while i < np.size(Y):\n",
    "        SS_Res = (Y[i]-Y_pred[i])**2 + SS_Res\n",
    "        i=i+1\n",
    "    return SS_Res\n",
    "\n",
    "def r_squared(y_real, y_predicted):\n",
    "    \"\"\"\n",
    "    input\n",
    "    y_real [numpy array]: observed y values\n",
    "    y_predicted [numpy array]: estimated regression values\n",
    "    \n",
    "    return\n",
    "    r_squared [float] : r-squared value\n",
    "    \"\"\"\n",
    "    \n",
    "    SSE = sq_err(y_real,y_predicted)  \n",
    "    i=0\n",
    "    SST=0\n",
    "    y_bar = np.average(y_real)\n",
    "    while i < np.size(y_real):\n",
    "        SST = (y_real[i]-y_bar)**2 + SST\n",
    "        i=i+1\n",
    "    \n",
    "    r_squared = 1 - (SSE/SST)\n",
    "    \n",
    "    return r_squared\n",
    "\n",
    "m, c = best_fit(X,Y)\n",
    "regression_line = reg_line(m,c,X)\n",
    "r_squared = r_squared(Y,regression_line)\n",
    "\n",
    "print('Output')\n",
    "print('----------------------------')\n",
    "print('Slope: ' + str(round(m,2)))\n",
    "print('Y-Intercept: ' + str(round(c,2)))\n",
    "print('R-Squared: ' + str(round(r_squared,2)))\n",
    "print('----------------------------')\n",
    "\n",
    "# Basic Regression Diagnostics\n",
    "# ----------------------------\n",
    "# Slope: 0.56\n",
    "# Y-Intercept: 6.33\n",
    "# R-Squared: 0.97\n",
    "# ----------------------------\n",
    "# Model: Y = 0.56 * X + 6.33"
   ]
  },
  {
   "cell_type": "markdown",
   "metadata": {},
   "source": [
    "## Make Predictions\n",
    "\n",
    "Predict and plot the value of y using regression line above for a new value of $x = 4.5$."
   ]
  },
  {
   "cell_type": "code",
   "execution_count": 18,
   "metadata": {},
   "outputs": [
    {
     "data": {
      "image/png": "[encoded data removed]",
      "text/plain": [
       "<Figure size 432x288 with 1 Axes>"
      ]
     },
     "metadata": {},
     "output_type": "display_data"
    }
   ],
   "source": [
    "# Make prediction for x = 4.5 and visualize on the scatter plot\n",
    "\n",
    "import matplotlib.pyplot as plt\n",
    "from matplotlib import style\n",
    "style.use('ggplot')\n",
    "\n",
    "x_new = np.array([4.5])\n",
    "y_predicted = reg_line(m,c,x_new)\n",
    "y_predicted\n",
    "\n",
    "plt.scatter(X,Y,label='data',color='blue')\n",
    "plt.plot(X,regression_line,label='regression line')\n",
    "plt.scatter(x_new,y_predicted,label='predicted',color='magenta')\n",
    "plt.legend(loc=4)\n",
    "plt.show()\n",
    "\n"
   ]
  },
  {
   "cell_type": "markdown",
   "metadata": {},
   "source": [
    "## Level up - Optional \n",
    "Load the \"`heightweight.csv`\" dataset. Use the height as an independent and weight as a dependent variable and draw a regression line to data using your code above. Calculate your R-Squared value for the model and try to predict new values of y. \n",
    "\n",
    "## Summary\n",
    "\n",
    "In this lab, we ran a complete simple regression analysis experiment using functions created so far. Next up, you'll learn how you can use python's built-in modules to perform similar analyses with a much higher level of sophistication. "
   ]
  }
 ],
 "metadata": {
  "kernelspec": {
   "display_name": "Python 3",
   "language": "python",
   "name": "python3"
  },
  "language_info": {
   "codemirror_mode": {
    "name": "ipython",
    "version": 3
   },
   "file_extension": ".py",
   "mimetype": "text/x-python",
   "name": "python",
   "nbconvert_exporter": "python",
   "pygments_lexer": "ipython3",
   "version": "3.6.9"
  }
 },
 "nbformat": 4,
 "nbformat_minor": 2
}
